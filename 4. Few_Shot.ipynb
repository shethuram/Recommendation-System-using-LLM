{
 "cells": [
  {
   "cell_type": "markdown",
   "id": "ad751845-8441-48c7-a052-70da31415b73",
   "metadata": {},
   "source": [
    "## FEW-SHOT PROMPTING"
   ]
  },
  {
   "cell_type": "code",
   "execution_count": null,
   "id": "b005a5af-c02f-4e07-a08c-366318b12d29",
   "metadata": {
    "scrolled": true
   },
   "outputs": [],
   "source": [
    "import pandas as pd\n",
    "\n",
    "movies = pd.read_csv(\"movies_sub.csv\")\n",
    "movies[\"Llama Summary Few Shot\"] = \"\"\n",
    "movies[\"Generated\"] = False\n",
    "movies.drop('Unnamed: 0', axis = 1, inplace = True)"
   ]
  },
  {
   "cell_type": "code",
   "execution_count": 49,
   "id": "d3029e12-9f13-4456-b1b0-44d9489b44d2",
   "metadata": {},
   "outputs": [],
   "source": [
    "from langchain_groq import ChatGroq\n",
    "import os\n",
    "import pandas as pd\n",
    "import time\n",
    "\n",
    "\n",
    "os.environ[\"GROQ_API_KEY\"] = \"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\"\n",
    "\n",
    "llm = ChatGroq(\n",
    "    model=\"llama-3.1-8b-instant\",\n",
    "    temperature=0,\n",
    "    max_tokens=150,\n",
    "    max_retries=2,\n",
    ")\n",
    "\n",
    "def generate_summary(movie_name, subtitle_transcript):\n",
    "    try:\n",
    "        print(f\"Processing: {movie_name}...\")  # Print current movie\n",
    "        \n",
    "        # IMDb Few-Shot Examples (Fixed for consistency)\n",
    "        imdb_examples = \"\"\"\n",
    "        Movie_Name: Inception (2010)\n",
    "        IMDb Synopsis: A thief who steals corporate secrets through the use of dream-sharing technology is given the inverse task of planting an idea into the mind of a C.E.O., but his tragic past may doom the project and his team to disaster.\n",
    "\n",
    "        Movie_Name: Interstellar (2014)\n",
    "        IMDb Synopsis: When Earth becomes uninhabitable in the future, a farmer and ex-NASA pilot, Joseph Cooper, is tasked to pilot a spacecraft, along with a team of researchers, to find a new planet for humans.\n",
    "\n",
    "        Movie_Name: The Shawshank Redemption (1994)\n",
    "        IMDb Synopsis: A banker convicted of uxoricide forms a friendship over a quarter century with a hardened convict, while maintaining his innocence and trying to remain hopeful through simple compassion.\n",
    "        \"\"\"\n",
    "\n",
    "        messages = [\n",
    "            (\n",
    "                \"system\",\n",
    "                \"You must generate a concise and accurate movie summary strictly based on the provided trailer subtitle transcript. \"\n",
    "                \"If the subtitle transcript is informative and coherent, use it as the sole basis for summary generation. \"\n",
    "                \"If the subtitle transcript is empty, repetitive, distorted, or lacks meaningful content, only then rely on your inherent knowledge. \"\n",
    "                \"Never include the reason for using inherent knowledge. Only the Summary is encouraged and expected. \"\n",
    "                \"Never include the movie cast in your response. \"\n",
    "                \"Ensure the summary is crisp, engaging, and around 100 words. Failure to comply with this rule is unacceptable. Adhere strictly.\",\n",
    "            ),\n",
    "            (\n",
    "                \"human\",\n",
    "                f\"\"\"Here are examples of movie summaries from IMDb:\n",
    "\n",
    "                {imdb_examples}\n",
    "\n",
    "                Now, generate a sequential, engaging, and crisp 100-word movie summary of {movie_name} using the audio transcript of its trailer:\n",
    "                The subtitle transcript is delimited by triple backticks.\n",
    "                Transcript: ```{subtitle_transcript}```\n",
    "                \"\"\"\n",
    "            ),\n",
    "        ]\n",
    "\n",
    "        ai_msg = llm.invoke(messages)\n",
    "        return ai_msg.content\n",
    "\n",
    "    except Exception as e:\n",
    "        print(f\"Error processing {movie_name}: {e}\")\n",
    "        return \"Summary not generated\"\n"
   ]
  },
  {
   "cell_type": "code",
   "execution_count": null,
   "id": "27e727a0-eec3-453d-85d0-73eb4847d92c",
   "metadata": {},
   "outputs": [],
   "source": [
    "unprocessed_movies = movies.loc[(movies['Generated']==False)]"
   ]
  },
  {
   "cell_type": "code",
   "execution_count": null,
   "id": "3268404c-b073-4ac9-a5da-6b9a0a20b61f",
   "metadata": {},
   "outputs": [],
   "source": [
    "batch_size = 10\n",
    "for i in range(0, len(unprocessed_movies), batch_size):\n",
    "    batch = unprocessed_movies[i : i + batch_size]\n",
    "    batch[\"Llama Summary Few Shot\"] = batch.apply(\n",
    "        lambda row: generate_summary(row[\"Movie_Name\"], row[\"Subtitle Transcript\"]),\n",
    "        axis=1,\n",
    "    )\n",
    "    \n",
    "    movies.loc[batch.index, \"Llama Summary Few Shot\"] = batch[\"Llama Summary Few Shot\"]\n",
    "    movies.loc[batch.index, \"Generated\"] = True\n",
    "    movies.to_csv(\"movies_sub.csv\", index=False)\n",
    "    print(f\"Checkpoint saved. Processed {i + batch_size} movies.\")\n",
    "    time.sleep(1)\n",
    "\n",
    "print(\"Processing completed!\")"
   ]
  },
  {
   "cell_type": "code",
   "execution_count": 59,
   "id": "066c4359-1760-42c8-84b0-4be15e8764c7",
   "metadata": {},
   "outputs": [],
   "source": [
    "movies.to_csv(\"movies_sub.csv\")"
   ]
  }
 ],
 "metadata": {
  "kernelspec": {
   "display_name": "Python 3 (ipykernel)",
   "language": "python",
   "name": "python3"
  },
  "language_info": {
   "codemirror_mode": {
    "name": "ipython",
    "version": 3
   },
   "file_extension": ".py",
   "mimetype": "text/x-python",
   "name": "python",
   "nbconvert_exporter": "python",
   "pygments_lexer": "ipython3",
   "version": "3.12.0"
  }
 },
 "nbformat": 4,
 "nbformat_minor": 5
}
