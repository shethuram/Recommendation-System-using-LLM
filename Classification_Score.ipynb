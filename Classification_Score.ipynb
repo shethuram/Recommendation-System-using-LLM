{
 "cells": [
  {
   "cell_type": "markdown",
   "id": "3f26fc9c-0035-4226-bc60-1be755707a31",
   "metadata": {},
   "source": [
    "## CLASSIFICATION SCORE"
   ]
  },
  {
   "cell_type": "code",
   "execution_count": 1,
   "id": "30844e72-2b04-477c-9102-50c9720385a1",
   "metadata": {},
   "outputs": [],
   "source": [
    "from sklearn.metrics import precision_score, recall_score, f1_score\n",
    "import pandas as pd"
   ]
  },
  {
   "cell_type": "code",
   "execution_count": 3,
   "id": "ae77e95f-aad3-44e7-9357-00b817755aa3",
   "metadata": {},
   "outputs": [],
   "source": [
    "movies = pd.read_csv('movies_sub.csv')\n",
    "df = pd.read_csv('final_df.csv')"
   ]
  },
  {
   "cell_type": "code",
   "execution_count": 11,
   "id": "6252032d-7687-4847-945a-a112fc82ab19",
   "metadata": {},
   "outputs": [
    {
     "name": "stdout",
     "output_type": "stream",
     "text": [
      "<class 'pandas.core.frame.DataFrame'>\n",
      "RangeIndex: 1633 entries, 0 to 1632\n",
      "Data columns (total 26 columns):\n",
      " #   Column                   Non-Null Count  Dtype \n",
      "---  ------                   --------------  ----- \n",
      " 0   Movie_ID                 1633 non-null   int64 \n",
      " 1   Movie_Name               1633 non-null   object\n",
      " 2   Subtitle Transcript      1633 non-null   object\n",
      " 3   IMDb Summary             1616 non-null   object\n",
      " 4   Llama Summary Zero Shot  1633 non-null   object\n",
      " 5   Llama Summary Few Shot   1633 non-null   object\n",
      " 6   Completed                1633 non-null   bool  \n",
      " 7   Processed                1633 non-null   bool  \n",
      " 8   Action                   1633 non-null   int64 \n",
      " 9   Adventure                1633 non-null   int64 \n",
      " 10  Animation                1633 non-null   int64 \n",
      " 11  Children's               1633 non-null   int64 \n",
      " 12  Comedy                   1633 non-null   int64 \n",
      " 13  Crime                    1633 non-null   int64 \n",
      " 14  Documentary              1633 non-null   int64 \n",
      " 15  Drama                    1633 non-null   int64 \n",
      " 16  Fantasy                  1633 non-null   int64 \n",
      " 17  Film Noir                1633 non-null   int64 \n",
      " 18  Horror                   1633 non-null   int64 \n",
      " 19  Musical                  1633 non-null   int64 \n",
      " 20  Mystery                  1633 non-null   int64 \n",
      " 21  Romance                  1633 non-null   int64 \n",
      " 22  Sci-Fi                   1633 non-null   int64 \n",
      " 23  Thriller                 1633 non-null   int64 \n",
      " 24  War                      1633 non-null   int64 \n",
      " 25  Western                  1633 non-null   int64 \n",
      "dtypes: bool(2), int64(19), object(5)\n",
      "memory usage: 309.5+ KB\n"
     ]
    }
   ],
   "source": [
    "movies.info()"
   ]
  },
  {
   "cell_type": "code",
   "execution_count": 13,
   "id": "d23e57e7-4d76-4f6c-ab4d-acbf5d334bad",
   "metadata": {},
   "outputs": [
    {
     "name": "stdout",
     "output_type": "stream",
     "text": [
      "<class 'pandas.core.frame.DataFrame'>\n",
      "RangeIndex: 1633 entries, 0 to 1632\n",
      "Data columns (total 20 columns):\n",
      " #   Column       Non-Null Count  Dtype \n",
      "---  ------       --------------  ----- \n",
      " 0   movie id     1633 non-null   int64 \n",
      " 1   movie title  1633 non-null   object\n",
      " 2   Action       1633 non-null   int64 \n",
      " 3   Adventure    1633 non-null   int64 \n",
      " 4   Animation    1633 non-null   int64 \n",
      " 5   Children's   1633 non-null   int64 \n",
      " 6   Comedy       1633 non-null   int64 \n",
      " 7   Crime        1633 non-null   int64 \n",
      " 8   Documentary  1633 non-null   int64 \n",
      " 9   Drama        1633 non-null   int64 \n",
      " 10  Fantasy      1633 non-null   int64 \n",
      " 11  Film Noir    1633 non-null   int64 \n",
      " 12  Horror       1633 non-null   int64 \n",
      " 13  Musical      1633 non-null   int64 \n",
      " 14  Mystery      1633 non-null   int64 \n",
      " 15  Romance      1633 non-null   int64 \n",
      " 16  Sci-Fi       1633 non-null   int64 \n",
      " 17  Thriller     1633 non-null   int64 \n",
      " 18  War          1633 non-null   int64 \n",
      " 19  Western      1633 non-null   int64 \n",
      "dtypes: int64(19), object(1)\n",
      "memory usage: 255.3+ KB\n"
     ]
    }
   ],
   "source": [
    "df.info()"
   ]
  },
  {
   "cell_type": "code",
   "execution_count": 17,
   "id": "d2032253-3a1f-4c3a-bb4a-beffa6bf7c47",
   "metadata": {},
   "outputs": [
    {
     "name": "stdout",
     "output_type": "stream",
     "text": [
      "          Genre  Precision  Recall  F1-score\n",
      "0        Action       0.67    0.70      0.68\n",
      "1     Adventure       0.30    0.89      0.45\n",
      "2     Animation       0.75    0.79      0.77\n",
      "3    Children's       0.72    0.68      0.70\n",
      "4        Comedy       0.69    0.82      0.75\n",
      "5         Crime       0.27    0.85      0.40\n",
      "6   Documentary       0.84    0.65      0.74\n",
      "7         Drama       0.59    0.93      0.72\n",
      "8       Fantasy       0.08    0.86      0.14\n",
      "9     Film Noir       0.15    0.67      0.24\n",
      "10       Horror       0.67    0.84      0.75\n",
      "11      Musical       0.65    0.36      0.46\n",
      "12      Mystery       0.28    0.57      0.38\n",
      "13      Romance       0.39    0.78      0.52\n",
      "14       Sci-Fi       0.64    0.61      0.62\n",
      "15     Thriller       0.38    0.91      0.54\n",
      "16          War       0.51    0.61      0.56\n",
      "17      Western       0.62    0.96      0.75\n"
     ]
    }
   ],
   "source": [
    "\n",
    "\n",
    "# Ensure movies and df have the same genre columns\n",
    "genres_list = [\n",
    "    \"Action\", \"Adventure\", \"Animation\", \"Children's\", \"Comedy\", \"Crime\", \n",
    "    \"Documentary\", \"Drama\", \"Fantasy\", \"Film Noir\", \"Horror\", \"Musical\", \n",
    "    \"Mystery\", \"Romance\", \"Sci-Fi\", \"Thriller\", \"War\", \"Western\"\n",
    "]\n",
    "\n",
    "# Initialize result dictionary\n",
    "results = {\"Genre\": [], \"Precision\": [], \"Recall\": [], \"F1-score\": []}\n",
    "\n",
    "# Compute metrics for each genre\n",
    "for genre in genres_list:\n",
    "    precision = precision_score(df[genre], movies[genre])\n",
    "    recall = recall_score(df[genre], movies[genre])\n",
    "    f1 = f1_score(df[genre], movies[genre])\n",
    "\n",
    "    # Store results rounded to 2 decimal places\n",
    "    results[\"Genre\"].append(genre)\n",
    "    results[\"Precision\"].append(round(precision, 2))\n",
    "    results[\"Recall\"].append(round(recall, 2))\n",
    "    results[\"F1-score\"].append(round(f1, 2))\n",
    "\n",
    "# Convert results into a DataFrame\n",
    "metrics_df = pd.DataFrame(results)\n",
    "\n",
    "metrics_df.to_csv(\"genre_prediction_results.csv\", index=False)\n",
    "\n",
    "# Display the result\n",
    "print(metrics_df)\n"
   ]
  },
  {
   "cell_type": "code",
   "execution_count": null,
   "id": "eb32e56d-b0d5-4f4a-9c43-3a830e0386d1",
   "metadata": {},
   "outputs": [],
   "source": []
  }
 ],
 "metadata": {
  "kernelspec": {
   "display_name": "Python 3 (ipykernel)",
   "language": "python",
   "name": "python3"
  },
  "language_info": {
   "codemirror_mode": {
    "name": "ipython",
    "version": 3
   },
   "file_extension": ".py",
   "mimetype": "text/x-python",
   "name": "python",
   "nbconvert_exporter": "python",
   "pygments_lexer": "ipython3",
   "version": "3.12.0"
  }
 },
 "nbformat": 4,
 "nbformat_minor": 5
}
